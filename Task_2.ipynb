{
 "cells": [
  {
   "cell_type": "code",
   "execution_count": 1,
   "id": "3ae92457-87c7-427c-b45b-aed4bb851c4a",
   "metadata": {},
   "outputs": [],
   "source": [
    "import pandas as pd\n",
    "import numpy as np\n",
    "from scipy.sparse import csr_matrix\n",
    "from scipy.sparse.linalg import eigs"
   ]
  },
  {
   "cell_type": "code",
   "execution_count": 2,
   "id": "305befc7-1c78-48cb-8c70-6632221d5f00",
   "metadata": {},
   "outputs": [],
   "source": [
    "# Load the dataset\n",
    "data = pd.read_csv(r\"C:\\Users\\lenovo\\Downloads\\superstore.csv\")"
   ]
  },
  {
   "cell_type": "code",
   "execution_count": 8,
   "id": "b0709080-78b7-48ad-b536-7be4616844a2",
   "metadata": {},
   "outputs": [],
   "source": [
    "# Selecting a subset of numerical columns (e.g., 'Sales' and 'Shipping.Cost') and a limited number of rows\n",
    "# Here we're creating a 100x100 square matrix for simplicity\n",
    "matrix_data = data[['Sales', 'Shipping.Cost']].dropna().values[:100]\n",
    "sparse_matrix = csr_matrix(matrix_data)"
   ]
  },
  {
   "cell_type": "code",
   "execution_count": 9,
   "id": "b9ebe82d-ebea-4ab4-bf5c-7ce3b96bfb32",
   "metadata": {},
   "outputs": [],
   "source": [
    "# Ensure the sparse matrix is square by creating a covariance matrix\n",
    "cov_matrix = np.cov(matrix_data, rowvar=False)"
   ]
  },
  {
   "cell_type": "code",
   "execution_count": 10,
   "id": "6f4ce4b3-c3e6-42dd-85b1-0083fc4b3615",
   "metadata": {},
   "outputs": [],
   "source": [
    "# Calculate eigenvalues and eigenvectors using scipy's eig function on the covariance matrix\n",
    "eigenvalues, eigenvectors = np.linalg.eig(cov_matrix)"
   ]
  },
  {
   "cell_type": "code",
   "execution_count": 11,
   "id": "37788d39-f3f2-4168-beef-a7a0a883adcf",
   "metadata": {},
   "outputs": [
    {
     "name": "stdout",
     "output_type": "stream",
     "text": [
      "Eigenvalues: [4326.91832071   47.08517476]\n",
      "Eigenvectors:\n",
      " [[ 0.99627821 -0.0861959 ]\n",
      " [ 0.0861959   0.99627821]]\n"
     ]
    }
   ],
   "source": [
    "# Display the results\n",
    "print(\"Eigenvalues:\", eigenvalues)\n",
    "print(\"Eigenvectors:\\n\", eigenvectors)"
   ]
  },
  {
   "cell_type": "code",
   "execution_count": null,
   "id": "4509e2a7-4f88-4039-9ae5-06b87853f635",
   "metadata": {},
   "outputs": [],
   "source": []
  }
 ],
 "metadata": {
  "kernelspec": {
   "display_name": "Python 3 (ipykernel)",
   "language": "python",
   "name": "python3"
  },
  "language_info": {
   "codemirror_mode": {
    "name": "ipython",
    "version": 3
   },
   "file_extension": ".py",
   "mimetype": "text/x-python",
   "name": "python",
   "nbconvert_exporter": "python",
   "pygments_lexer": "ipython3",
   "version": "3.11.7"
  }
 },
 "nbformat": 4,
 "nbformat_minor": 5
}
